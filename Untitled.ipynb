{
 "cells": [
  {
   "cell_type": "markdown",
   "id": "f79e4600-194d-4583-aeba-de399c3a7dbe",
   "metadata": {},
   "source": [
    "# Group Project Proposal"
   ]
  },
  {
   "cell_type": "markdown",
   "id": "c6f56d77-5092-44a4-aabe-360f52616ae8",
   "metadata": {},
   "source": [
    "$\\textbf{Members: Anthony Sheu, Jeremy Qu, Andrea Erika, Sofie DeLuca}$"
   ]
  },
  {
   "cell_type": "code",
   "execution_count": null,
   "id": "3c2a567f-6338-4b19-84f2-a84cf3ad605e",
   "metadata": {},
   "outputs": [],
   "source": []
  }
 ],
 "metadata": {
  "kernelspec": {
   "display_name": "R",
   "language": "R",
   "name": "ir"
  },
  "language_info": {
   "codemirror_mode": "r",
   "file_extension": ".r",
   "mimetype": "text/x-r-source",
   "name": "R",
   "pygments_lexer": "r",
   "version": "4.3.1"
  }
 },
 "nbformat": 4,
 "nbformat_minor": 5
}

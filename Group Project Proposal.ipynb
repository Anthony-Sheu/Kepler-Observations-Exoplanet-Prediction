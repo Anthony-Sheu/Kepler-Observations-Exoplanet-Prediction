{
 "cells": [
  {
   "cell_type": "markdown",
   "id": "f79e4600-194d-4583-aeba-de399c3a7dbe",
   "metadata": {},
   "source": [
    "# Using Data Collected from the Kepler Telescope to Derive General Characteristics of Exoplanets and Predict Potential Exoplanets"
   ]
  },
  {
   "cell_type": "markdown",
   "id": "c6f56d77-5092-44a4-aabe-360f52616ae8",
   "metadata": {},
   "source": [
    "$\\textbf{Members: Anthony Sheu, Jeremy Qu, Andrea Erika, Sofie DeLuca}$"
   ]
  },
  {
   "cell_type": "markdown",
   "id": "f9b95904-c815-4bb5-a5b3-c21e81bc3c13",
   "metadata": {},
   "source": [
    "## Introduction"
   ]
  },
  {
   "cell_type": "markdown",
   "id": "0356ce8b-862d-4110-a85d-3e945b06ce0a",
   "metadata": {},
   "source": [
    "    Kepler is a satellite telescope which has been collecting data about exoplanets, planets beyond our solar system, since 2009. The dataset records about 10 thousand data of the parameters of planets that are observed by Kepler, so this data will be valuable to estimate and categorize new planets. Our project will try to answer the question: Will this new object be an exoplanet or a false positive based on predictors? The dataset that will be used to answer the question is a table of Kepler Objects of Interest. The table indicates if these objects are either confirmed, false positive, or candidate exoplanets. It also includes properties of the objects such as radius, orbital period, transit duration, etc. \n",
    "    \n",
    "    We plan to first use visualization to derive specific general characteristics demonstrated by exoplanets. Then we will use these general characteristics as predictors in the K-nearest neighbours method to create a model that can predict whether a given planet with specified characteristics to be an exoplanet or not. We will plot the confirmed exoplanets and the false positive exoplanets on scatter plots against various predictors to see which predictors have significant patterns between the false positives and the confirmed exoplanets. We will split our data into training and testing, and then split it into 10 (or more but currently undecided) folds. \r\n",
    "\n",
    "    We expect to find significant patterns and similarities within the false positives, potentially through their size or some similar predictor. As well, we expect to find common trends and occurences in characteristics of exoplanets through visualization. The implications of researching this topic suggests the prospect of life beyond Earth and a potential second home for the human race.\n",
    "\n",
    "    \r\n",
    "\n"
   ]
  },
  {
   "cell_type": "markdown",
   "id": "c3f58d93-d3a1-4a76-ba4c-6757508375a2",
   "metadata": {},
   "source": [
    "## Preliminary Exploratory Data Analysis"
   ]
  },
  {
   "cell_type": "markdown",
   "id": "5a6fc062-273e-4102-910f-d05631d52938",
   "metadata": {},
   "source": [
    "### Data Collected From\n",
    "NASA. (2017, October 10). Kepler exoplanet search results. Kaggle. https://www.kaggle.com/datasets/nasa/kepler-exoplanet-search-results/data \n",
    "\n"
   ]
  },
  {
   "cell_type": "markdown",
   "id": "cae2ab65-2134-47be-b6a8-efad57040ca3",
   "metadata": {},
   "source": [
    "## Label Descriptions\n",
    "kepid\n",
    "- Target identification number, as listed in the Kepler Input Catalog\n",
    "- Each Kepler ID is unique to a target\n",
    "\n",
    "\n",
    "kepoi_name\n",
    "- A number used to identify and track a Kepler Object of Interest\n",
    "- A KOI name has an integer and a decimal part of the format KNNNNN.DD\n",
    "- The integer part designates the target star; the two-digit decimal part identifies a unique transiting object associated with that star\n",
    "\n",
    "\n",
    "kepler_name\n",
    "- Planet identifier\n",
    "\n",
    "\n",
    "koi_disposition\n",
    "- Values include: candidate, flase positive, not dispositioned, or confirmed\n",
    "\n",
    "\n",
    "koi_score\n",
    "- A value between 0 and 1 that indicates the confidence in the KOI disposition\n",
    "- For candidates, a higher value indicates more confidence in its disposition\n",
    "- For false positives, a higher value indicates less confidence in that disposition"
   ]
  },
  {
   "cell_type": "code",
   "execution_count": null,
   "id": "1984b17a-7388-409f-a697-9e2a6d42db36",
   "metadata": {},
   "outputs": [],
   "source": []
  }
 ],
 "metadata": {
  "kernelspec": {
   "display_name": "R",
   "language": "R",
   "name": "ir"
  },
  "language_info": {
   "codemirror_mode": "r",
   "file_extension": ".r",
   "mimetype": "text/x-r-source",
   "name": "R",
   "pygments_lexer": "r",
   "version": "4.3.1"
  }
 },
 "nbformat": 4,
 "nbformat_minor": 5
}
